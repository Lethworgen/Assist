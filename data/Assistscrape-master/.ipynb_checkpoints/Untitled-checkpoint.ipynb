{
 "cells": [
  {
   "cell_type": "code",
   "execution_count": 1,
   "metadata": {
    "collapsed": true
   },
   "outputs": [],
   "source": [
    "import requests as r"
   ]
  },
  {
   "cell_type": "code",
   "execution_count": 3,
   "metadata": {
    "collapsed": false
   },
   "outputs": [],
   "source": [
    "UCs = r.get (\"http://localhost:8081/api/DAC/oias\")"
   ]
  },
  {
   "cell_type": "code",
   "execution_count": 6,
   "metadata": {
    "collapsed": false
   },
   "outputs": [],
   "source": [
    "UCs = UCs.json()"
   ]
  },
  {
   "cell_type": "code",
   "execution_count": 12,
   "metadata": {
    "collapsed": false,
    "scrolled": true
   },
   "outputs": [],
   "source": [
    "for n in range(len(UCs)):\n",
    "    UCs[n][\"id\"] = n"
   ]
  },
  {
   "cell_type": "code",
   "execution_count": 23,
   "metadata": {
    "collapsed": false
   },
   "outputs": [
    {
     "name": "stdout",
     "output_type": "stream",
     "text": [
      "CSUMA\n",
      "http://localhost:8081/api/DAC/CSUMA/dora\n",
      "Continuing\n",
      "CPP\n",
      "http://localhost:8081/api/DAC/CPP/dora\n"
     ]
    },
    {
     "ename": "TypeError",
     "evalue": "'Response' object does not support indexing",
     "output_type": "error",
     "traceback": [
      "\u001b[0;31m---------------------------------------------------------------------------\u001b[0m",
      "\u001b[0;31mTypeError\u001b[0m                                 Traceback (most recent call last)",
      "\u001b[0;32m<ipython-input-23-34fd936b36ca>\u001b[0m in \u001b[0;36m<module>\u001b[0;34m()\u001b[0m\n\u001b[1;32m     10\u001b[0m \u001b[0;34m\u001b[0m\u001b[0m\n\u001b[1;32m     11\u001b[0m     \u001b[0;32mfor\u001b[0m \u001b[0mn\u001b[0m \u001b[0;32min\u001b[0m \u001b[0mrange\u001b[0m\u001b[0;34m(\u001b[0m\u001b[0mlen\u001b[0m\u001b[0;34m(\u001b[0m\u001b[0muc_majors\u001b[0m\u001b[0;34m.\u001b[0m\u001b[0mjson\u001b[0m\u001b[0;34m(\u001b[0m\u001b[0;34m)\u001b[0m\u001b[0;34m)\u001b[0m\u001b[0;34m)\u001b[0m\u001b[0;34m:\u001b[0m\u001b[0;34m\u001b[0m\u001b[0m\n\u001b[0;32m---> 12\u001b[0;31m         \u001b[0muc_majors\u001b[0m\u001b[0;34m[\u001b[0m\u001b[0mn\u001b[0m\u001b[0;34m]\u001b[0m\u001b[0;34m[\u001b[0m\u001b[0;34m'id'\u001b[0m\u001b[0;34m]\u001b[0m \u001b[0;34m=\u001b[0m \u001b[0mn\u001b[0m\u001b[0;34m\u001b[0m\u001b[0m\n\u001b[0m\u001b[1;32m     13\u001b[0m         \u001b[0muc_majors\u001b[0m\u001b[0;34m[\u001b[0m\u001b[0mn\u001b[0m\u001b[0;34m]\u001b[0m\u001b[0;34m[\u001b[0m\u001b[0;34m'ucId'\u001b[0m\u001b[0;34m]\u001b[0m \u001b[0;34m=\u001b[0m \u001b[0mUC\u001b[0m\u001b[0;34m[\u001b[0m\u001b[0;34m'id'\u001b[0m\u001b[0;34m]\u001b[0m\u001b[0;34m\u001b[0m\u001b[0m\n\u001b[1;32m     14\u001b[0m     \u001b[0mmajors\u001b[0m \u001b[0;34m+=\u001b[0m \u001b[0muc_majors\u001b[0m\u001b[0;34m\u001b[0m\u001b[0m\n",
      "\u001b[0;31mTypeError\u001b[0m: 'Response' object does not support indexing"
     ]
    }
   ],
   "source": [
    "majors = []\n",
    "for UC in UCs:\n",
    "    print UC['value']\n",
    "    http_str = \"http://localhost:8081/api/DAC/\"+UC['value']+'/dora'\n",
    "    print http_str\n",
    "    uc_majors = r.get(http_str).json()\n",
    "    if uc_majors == \"Error with school name\":\n",
    "        print \"Continuing\"\n",
    "        continue\n",
    "    \n",
    "    for n in range(len(uc_majors)):\n",
    "        uc_majors[n]['id'] = n\n",
    "        uc_majors[n]['ucId'] = UC['id']\n",
    "    majors += uc_majors"
   ]
  },
  {
   "cell_type": "code",
   "execution_count": 21,
   "metadata": {
    "collapsed": false
   },
   "outputs": [
    {
     "data": {
      "text/plain": [
       "[{'id': 0, u'name': u'California Maritime Academy', u'value': u'CSUMA'},\n",
       " {'id': 1,\n",
       "  u'name': u'California Polytechnic University, Pomona',\n",
       "  u'value': u'CPP'},\n",
       " {'id': 2,\n",
       "  u'name': u'California Polytechnic University, San Luis Obispo',\n",
       "  u'value': u'CPSLO'},\n",
       " {'id': 3,\n",
       "  u'name': u'California State University, Bakersfield',\n",
       "  u'value': u'CSUB'},\n",
       " {'id': 4,\n",
       "  u'name': u'California State University, Channel Islands',\n",
       "  u'value': u'CSUCI'},\n",
       " {'id': 5, u'name': u'California State University, Chico', u'value': u'CSUC'},\n",
       " {'id': 6,\n",
       "  u'name': u'California State University, Dominguez Hills',\n",
       "  u'value': u'CSUDH'},\n",
       " {'id': 7,\n",
       "  u'name': u'California State University, East Bay',\n",
       "  u'value': u'CSUEB'},\n",
       " {'id': 8,\n",
       "  u'name': u'California State University, Fresno',\n",
       "  u'value': u'CSUFRES'},\n",
       " {'id': 9,\n",
       "  u'name': u'California State University, Fullerton',\n",
       "  u'value': u'CSUFULL'},\n",
       " {'id': 10,\n",
       "  u'name': u'California State University, Long Beach',\n",
       "  u'value': u'CSULB'},\n",
       " {'id': 11,\n",
       "  u'name': u'California State University, Los Angeles',\n",
       "  u'value': u'CSULA'},\n",
       " {'id': 12,\n",
       "  u'name': u'California State University, Monterey Bay',\n",
       "  u'value': u'CSUMB'},\n",
       " {'id': 13,\n",
       "  u'name': u'California State University, Northridge',\n",
       "  u'value': u'CSUN'},\n",
       " {'id': 14,\n",
       "  u'name': u'California State University, Sacramento',\n",
       "  u'value': u'CSUS'},\n",
       " {'id': 15,\n",
       "  u'name': u'California State University, San Bernardino',\n",
       "  u'value': u'CSUSB'},\n",
       " {'id': 16,\n",
       "  u'name': u'California State University, San Marcos',\n",
       "  u'value': u'CSUSM'},\n",
       " {'id': 17,\n",
       "  u'name': u'California State University, Stanislaus',\n",
       "  u'value': u'CSUSTAN'},\n",
       " {'id': 18, u'name': u'Humboldt State University', u'value': u'HSU'},\n",
       " {'id': 19, u'name': u'San Diego State University', u'value': u'SDSU'},\n",
       " {'id': 20, u'name': u'San Francisco State University', u'value': u'SFSU'},\n",
       " {'id': 21, u'name': u'San Jose State University', u'value': u'SJSU'},\n",
       " {'id': 22, u'name': u'Sonoma State University', u'value': u'SSU'},\n",
       " {'id': 23,\n",
       "  u'name': u'UC Davis School of Veterinary Medicine',\n",
       "  u'value': u'UCDSVM'},\n",
       " {'id': 24, u'name': u'UCSF School of Dentistry', u'value': u'UCSFD'},\n",
       " {'id': 25, u'name': u'UCSF School of Pharmacy', u'value': u'UCSFP'},\n",
       " {'id': 26, u'name': u'University of California, Berkeley', u'value': u'UCB'},\n",
       " {'id': 27, u'name': u'University of California, Davis', u'value': u'UCD'},\n",
       " {'id': 28, u'name': u'University of California, Irvine', u'value': u'UCI'},\n",
       " {'id': 29,\n",
       "  u'name': u'University of California, Los Angeles',\n",
       "  u'value': u'UCLA'},\n",
       " {'id': 30, u'name': u'University of California, Merced', u'value': u'UCM'},\n",
       " {'id': 31, u'name': u'University of California, Riverside', u'value': u'UCR'},\n",
       " {'id': 32,\n",
       "  u'name': u'University of California, San Diego',\n",
       "  u'value': u'UCSD'},\n",
       " {'id': 33,\n",
       "  u'name': u'University of California, Santa Barbara',\n",
       "  u'value': u'UCSB'},\n",
       " {'id': 34,\n",
       "  u'name': u'University of California, Santa Cruz',\n",
       "  u'value': u'UCSC'}]"
      ]
     },
     "execution_count": 21,
     "metadata": {},
     "output_type": "execute_result"
    }
   ],
   "source": [
    "UCs"
   ]
  },
  {
   "cell_type": "code",
   "execution_count": null,
   "metadata": {
    "collapsed": true
   },
   "outputs": [],
   "source": []
  }
 ],
 "metadata": {
  "kernelspec": {
   "display_name": "Python 2",
   "language": "python",
   "name": "python2"
  },
  "language_info": {
   "codemirror_mode": {
    "name": "ipython",
    "version": 2
   },
   "file_extension": ".py",
   "mimetype": "text/x-python",
   "name": "python",
   "nbconvert_exporter": "python",
   "pygments_lexer": "ipython2",
   "version": "2.7.12"
  }
 },
 "nbformat": 4,
 "nbformat_minor": 1
}

{
 "cells": [
  {
   "cell_type": "code",
   "execution_count": 2,
   "metadata": {
    "collapsed": true
   },
   "outputs": [],
   "source": [
    "import requests as r\n",
    "import json"
   ]
  },
  {
   "cell_type": "code",
   "execution_count": 9,
   "metadata": {
    "collapsed": false,
    "scrolled": true
   },
   "outputs": [
    {
     "name": "stdout",
     "output_type": "stream",
     "text": [
      "CSUMA N/A\n",
      "CSUCI N/A\n",
      "CSUFRES N/A\n"
     ]
    }
   ],
   "source": [
    "UCs = r.get (\"http://localhost:8081/api/DAC/oias\")\n",
    "UCs = UCs.json()\n",
    "for n in range(len(UCs)):\n",
    "    UCs[n][\"id\"] = n\n",
    "majors = []\n",
    "for UC in UCs:\n",
    "    http_str = \"http://localhost:8081/api/DAC/\"+str(UC['value'])+\"/dora\"\n",
    "    uc_majors = r.get(http_str).json()\n",
    "    if uc_majors == \"Error with school name\":\n",
    "        print str(UC['value']) + \" N/A\"\n",
    "        continue\n",
    "    \n",
    "    for n in range(len(uc_majors)):\n",
    "        uc_majors[n]['id'] = n\n",
    "        uc_majors[n][\"uc_val\"] = UC[\"value\"]\n",
    "        uc_majors[n]['ucId'] = UC['id']\n",
    "    majors += uc_majors\n",
    "    \n",
    "with open(\"DAC_UC_majors.json\", 'w') as fp:\n",
    "    json.dump(majors, fp)\n"
   ]
  },
  {
   "cell_type": "code",
   "execution_count": 12,
   "metadata": {
    "collapsed": false
   },
   "outputs": [],
   "source": [
    "courses = []\n",
    "for m in majors:\n",
    "    \"http://localhost:8081/api/DAC/\"+str(m['uc_val'])+\"/\"+str(m['value'])+\"/courses\"\n",
    "    major_courses = r.get(http_str).json()\n",
    "    for n in range(len(major_courses)):\n",
    "        major_courses[n]['id'] = n\n",
    "        major_courses[n][\"major_id\"] = m['id']\n",
    "    courses += major_courses\n",
    "\n",
    "    with open(\"uc_dac_courses.json\", \"w\") as fp:\n",
    "        json.dump(courses, fp)"
   ]
  },
  {
   "cell_type": "code",
   "execution_count": 13,
   "metadata": {
    "collapsed": true
   },
   "outputs": [],
   "source": [
    "with open(\"dac_ucs.json\", \"w\") as fp:\n",
    "    json.dump(UCs, fp)"
   ]
  },
  {
   "cell_type": "code",
   "execution_count": null,
   "metadata": {
    "collapsed": true
   },
   "outputs": [],
   "source": []
  }
 ],
 "metadata": {
  "kernelspec": {
   "display_name": "Python 2",
   "language": "python",
   "name": "python2"
  },
  "language_info": {
   "codemirror_mode": {
    "name": "ipython",
    "version": 2
   },
   "file_extension": ".py",
   "mimetype": "text/x-python",
   "name": "python",
   "nbconvert_exporter": "python",
   "pygments_lexer": "ipython2",
   "version": "2.7.12"
  }
 },
 "nbformat": 4,
 "nbformat_minor": 1
}
